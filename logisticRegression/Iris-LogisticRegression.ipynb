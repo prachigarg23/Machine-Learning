{
 "cells": [
  {
   "cell_type": "markdown",
   "metadata": {},
   "source": [
    "# LOGISTIC REGRESSION ON IRIS DATASET"
   ]
  },
  {
   "cell_type": "code",
   "execution_count": 325,
   "metadata": {},
   "outputs": [],
   "source": [
    "import numpy as np\n",
    "import matplotlib.pyplot as plt\n",
    "from sklearn.linear_model import LogisticRegression\n",
    "from sklearn import datasets, preprocessing\n",
    "import pandas as pd\n",
    "from sklearn import cross_validation as cv"
   ]
  },
  {
   "cell_type": "code",
   "execution_count": 326,
   "metadata": {},
   "outputs": [
    {
     "name": "stdout",
     "output_type": "stream",
     "text": [
      "['sepal length (cm)', 'sepal width (cm)', 'petal length (cm)', 'petal width (cm)']\n",
      "['setosa' 'versicolor' 'virginica']\n",
      "                0           1           2           3\n",
      "count  150.000000  150.000000  150.000000  150.000000\n",
      "mean     5.843333    3.054000    3.758667    1.198667\n",
      "std      0.828066    0.433594    1.764420    0.763161\n",
      "min      4.300000    2.000000    1.000000    0.100000\n",
      "25%      5.100000    2.800000    1.600000    0.300000\n",
      "50%      5.800000    3.000000    4.350000    1.300000\n",
      "75%      6.400000    3.300000    5.100000    1.800000\n",
      "max      7.900000    4.400000    6.900000    2.500000\n"
     ]
    }
   ],
   "source": [
    "iris = datasets.load_iris()\n",
    "df = pd.DataFrame(iris.data)\n",
    "print(iris.feature_names)\n",
    "print(iris.target_names)\n",
    "print(df.describe())"
   ]
  },
  {
   "cell_type": "markdown",
   "metadata": {},
   "source": [
    "Using inbuild sklearn function"
   ]
  },
  {
   "cell_type": "code",
   "execution_count": 350,
   "metadata": {},
   "outputs": [
    {
     "data": {
      "text/plain": [
       "0.9777777777777777"
      ]
     },
     "execution_count": 350,
     "metadata": {},
     "output_type": "execute_result"
    }
   ],
   "source": [
    "X_train, X_test, Y_train, Y_test = cv.train_test_split(iris.data, iris.target, test_size=0.3)\n",
    "clf = LogisticRegression()\n",
    "clf.fit(X_train, Y_train)\n",
    "clf.predict(X_test)\n",
    "clf.score(X_test, Y_test)"
   ]
  },
  {
   "cell_type": "code",
   "execution_count": 565,
   "metadata": {},
   "outputs": [],
   "source": [
    "# We get poorer results on applying feature scaling for use of inbuilt classifier "
   ]
  },
  {
   "cell_type": "markdown",
   "metadata": {},
   "source": [
    "# Implementing 1 vs all technique"
   ]
  },
  {
   "cell_type": "code",
   "execution_count": 377,
   "metadata": {},
   "outputs": [],
   "source": [
    "def predict(X, coef):\n",
    "    z = X.dot(coef)\n",
    "    hox = 1 / (1.0 + np.exp(-z))\n",
    "    return hox"
   ]
  },
  {
   "cell_type": "code",
   "execution_count": 378,
   "metadata": {},
   "outputs": [],
   "source": [
    "def cost_fn(X, Y, coef, r_param=1):\n",
    "    M = len(coef)\n",
    "    hox = predict(X,coef)\n",
    "    term1 = Y.T.dot(np.log(hox)) \n",
    "    term2 = (1-Y).T.dot(np.log(1-hox))\n",
    "    cost = (-1/M) * (term1 + term2)\n",
    "    # adding regularisation \n",
    "    R_term = (coef**2).sum() * (r_param/(2*M))\n",
    "    cost = cost+R_term      \n",
    "    return cost\n",
    "\n",
    "def gd_step(X, Y, coef, l_rate, r_param=1):\n",
    "    Y = np.reshape(Y, (len(Y), 1))\n",
    "    N = len(Y)\n",
    "    hox = predict(X, coef)\n",
    "    loss = hox - Y\n",
    "    r = X.T\n",
    "    term1 = r.dot(loss)\n",
    "    term1 = term1/N\n",
    "    term2 = coef*(r_param/N)\n",
    "    grad = term1+term2\n",
    "    coef = coef - l_rate*grad\n",
    "    return coef"
   ]
  },
  {
   "cell_type": "code",
   "execution_count": 379,
   "metadata": {},
   "outputs": [],
   "source": [
    "def gd_runner(X, Y, learning_rate=0.02, num_iter=10):\n",
    "    X = np.array(X)\n",
    "    Y = np.array(Y)\n",
    "    arb, count = X.shape\n",
    "    coef = np.random.rand(count,1)\n",
    "    print(\"cost before gd = \" + str(cost_fn(X, Y, coef)))\n",
    "    for i in range(num_iter):\n",
    "        coef = gd_step(X, Y, coef, learning_rate)\n",
    "    print(\"cost after = \" + str(cost_fn(X, Y, coef)))\n",
    "    return coef"
   ]
  },
  {
   "cell_type": "code",
   "execution_count": 380,
   "metadata": {},
   "outputs": [],
   "source": [
    "# applying feature scaling\n",
    "scaler = preprocessing.StandardScaler().fit(X_train)\n",
    "X_train = scaler.transform(X_train)\n",
    "X_test = scaler.transform(X_test)\n",
    "\n",
    "# appending the bias column \n",
    "arr = np.full((len(Y_train), 1), 1)\n",
    "X = np.append(arr, X_train, axis=1)\n",
    "arr = np.full((len(X_test), 1), 1)\n",
    "X_test1 = np.append(arr, X_test, axis=1)"
   ]
  },
  {
   "cell_type": "code",
   "execution_count": 558,
   "metadata": {},
   "outputs": [
    {
     "name": "stdout",
     "output_type": "stream",
     "text": [
      "cost before gd = [28.36911838]\n",
      "cost after = [19.99788686]\n",
      "cost before gd = [20.90649062]\n",
      "cost after = [19.35929606]\n",
      "cost before gd = [9.45748105]\n",
      "cost after = [8.92042852]\n"
     ]
    }
   ],
   "source": [
    "# TRAINING FOR EACH CLASS \n",
    "\n",
    "# class 1 \n",
    "Y_new= []\n",
    "for i in range(len(Y_train)):\n",
    "    if(Y_train[i]==0):\n",
    "        Y_new.append(1)\n",
    "    else:\n",
    "        Y_new.append(0)\n",
    "coef_1 = gd_runner(X, Y_new, 0.01, 40)\n",
    "\n",
    "# class 2\n",
    "Y_new = []\n",
    "for i in range(len(Y_train)):\n",
    "    if(Y_train[i]==1):\n",
    "        Y_new.append(1)\n",
    "    else:\n",
    "        Y_new.append(0)\n",
    "coef_2 = gd_runner(X, Y_new, 0.01, 40)\n",
    "\n",
    "# class 3\n",
    "Y_new = []\n",
    "for i in range(len(Y_train)):\n",
    "    if(Y_train[i]==2):\n",
    "        Y_new.append(1)\n",
    "    else:\n",
    "        Y_new.append(0)\n",
    "coef_3 = gd_runner(X, Y_new, 0.01, 40)"
   ]
  },
  {
   "cell_type": "code",
   "execution_count": 559,
   "metadata": {},
   "outputs": [],
   "source": [
    "Y_pred_1 = predict(X_test1, coef_1)\n",
    "Y_pred_2 = predict(X_test1, coef_2)\n",
    "Y_pred_3 = predict(X_test1, coef_3)"
   ]
  },
  {
   "cell_type": "code",
   "execution_count": 560,
   "metadata": {},
   "outputs": [],
   "source": [
    "# classifying each test data point to one of the 3 classes \n",
    "Y_pred = []\n",
    "for i in range(len(X_test1)):\n",
    "    max_class = 0\n",
    "    if(Y_pred_1[i]<=Y_pred_2[i]):\n",
    "        if(Y_pred_2[i]>Y_pred_3[i]):\n",
    "            max_class = 1\n",
    "        else:\n",
    "            max_class = 2\n",
    "    else:\n",
    "        if(Y_pred_1[i]<Y_pred_3[i]):\n",
    "            max_class = 2\n",
    "    Y_pred.append(max_class)\n",
    "    "
   ]
  },
  {
   "cell_type": "code",
   "execution_count": 561,
   "metadata": {},
   "outputs": [],
   "source": [
    "# testing accuracy \n",
    "count = 0\n",
    "for i in range(len(Y_test)):\n",
    "    if(Y_test[i]==Y_pred[i]):\n",
    "        count = count+1\n",
    "accuracy = count/len(Y_test)"
   ]
  },
  {
   "cell_type": "code",
   "execution_count": 562,
   "metadata": {},
   "outputs": [
    {
     "name": "stdout",
     "output_type": "stream",
     "text": [
      "0.8\n"
     ]
    }
   ],
   "source": [
    "print(accuracy)"
   ]
  },
  {
   "cell_type": "code",
   "execution_count": 563,
   "metadata": {},
   "outputs": [
    {
     "name": "stdout",
     "output_type": "stream",
     "text": [
      "[0, 0, 0, 1, 2, 1, 1, 0, 2, 0]\n"
     ]
    }
   ],
   "source": [
    "print(Y_pred[0:10])"
   ]
  },
  {
   "cell_type": "code",
   "execution_count": 564,
   "metadata": {
    "scrolled": true
   },
   "outputs": [
    {
     "name": "stdout",
     "output_type": "stream",
     "text": [
      "[0 0 0 1 2 1 0 1 2 0]\n"
     ]
    }
   ],
   "source": [
    "print(Y_test[0:10])"
   ]
  }
 ],
 "metadata": {
  "kernelspec": {
   "display_name": "Python 3",
   "language": "python",
   "name": "python3"
  },
  "language_info": {
   "codemirror_mode": {
    "name": "ipython",
    "version": 3
   },
   "file_extension": ".py",
   "mimetype": "text/x-python",
   "name": "python",
   "nbconvert_exporter": "python",
   "pygments_lexer": "ipython3",
   "version": "3.6.4"
  }
 },
 "nbformat": 4,
 "nbformat_minor": 2
}
