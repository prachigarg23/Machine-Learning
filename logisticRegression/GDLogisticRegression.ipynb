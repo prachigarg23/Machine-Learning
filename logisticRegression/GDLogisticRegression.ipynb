{
 "cells": [
  {
   "cell_type": "markdown",
   "metadata": {},
   "source": [
    "LOGISTIC REGRESSION OPTIMISED USING GRADIENT DESCENT "
   ]
  },
  {
   "cell_type": "code",
   "execution_count": 6,
   "metadata": {},
   "outputs": [],
   "source": [
    "import numpy as np"
   ]
  },
  {
   "cell_type": "code",
   "execution_count": 7,
   "metadata": {},
   "outputs": [],
   "source": [
    "#hypothesis\n",
    "def predict(X, coef):\n",
    "    z = X.dot(coef)\n",
    "    hox = 1 / (1.0 + np.exp(-z))\n",
    "    return hox"
   ]
  },
  {
   "cell_type": "code",
   "execution_count": 8,
   "metadata": {},
   "outputs": [],
   "source": [
    "def cost_fn(X, Y, coef, r_param=1):\n",
    "    M = len(coef)\n",
    "    hox = predict(X,coef)\n",
    "    term1 = Y.T.dot(log(hox)) \n",
    "    term2 = (1-Y).T.dot(log(1-hox))\n",
    "    cost = (-1/m) * (term1 + term2)\n",
    "    #adding regularisation \n",
    "    R_term = (coef**2).sum() * (r_param/(2*M))\n",
    "    cost = cost+R_term      \n",
    "    return cost\n",
    "\n",
    "def gd_step(X, Y, coef, l_rate, r_param=1):\n",
    "    Y = np.reshape(Y, (len(Y), 1))\n",
    "    N = len(Y)\n",
    "    hox = predict(X, coef)\n",
    "    loss = hox - Y\n",
    "    term1 = X.T.dot(loss)\n",
    "    term1 = term1/N\n",
    "    term2 = (r_param/N)*coef\n",
    "    grad = term1 + term2\n",
    "    coef = coef - l_rate*grad\n",
    "    return coef"
   ]
  },
  {
   "cell_type": "code",
   "execution_count": 9,
   "metadata": {},
   "outputs": [],
   "source": [
    "def gd_runner(X, Y, learning_rate=0.02, num_iter=10):\n",
    "    arb, count = X.shape\n",
    "    coef = np.random.rand(count,1)\n",
    "    print(\"cost before gd = \" + str(cost_fn(X, Y, coef)))\n",
    "    for i in range(num_iter):\n",
    "        coef = gd_step(X, Y, coef, learning_rate)\n",
    "    print(\"cost after= \" + str(cost_fn(X, Y, coef)))\n",
    "    return coef"
   ]
  }
 ],
 "metadata": {
  "kernelspec": {
   "display_name": "Python 3",
   "language": "python",
   "name": "python3"
  },
  "language_info": {
   "codemirror_mode": {
    "name": "ipython",
    "version": 3
   },
   "file_extension": ".py",
   "mimetype": "text/x-python",
   "name": "python",
   "nbconvert_exporter": "python",
   "pygments_lexer": "ipython3",
   "version": "3.6.4"
  }
 },
 "nbformat": 4,
 "nbformat_minor": 2
}
