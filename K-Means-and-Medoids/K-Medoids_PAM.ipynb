{
 "cells": [
  {
   "cell_type": "markdown",
   "metadata": {},
   "source": [
    "### THIS IS THE PARTITIONING AROUND MEDOIDS (PAM) IMPLEMENTATION OF K-MEDOIDS "
   ]
  },
  {
   "cell_type": "code",
   "execution_count": null,
   "metadata": {},
   "outputs": [],
   "source": [
    "import numpy as np\n",
    "import matplotlib.pyplot as plt"
   ]
  },
  {
   "cell_type": "code",
   "execution_count": 165,
   "metadata": {},
   "outputs": [],
   "source": [
    "X = np.array([[2,6], [7,3], [3,8], [3,4], [6,2], [6,4], [4,7], [7,4], [8,5], [7,6]])#the wikipedia example has been used "
   ]
  },
  {
   "cell_type": "code",
   "execution_count": 166,
   "metadata": {},
   "outputs": [
    {
     "data": {
      "image/png": "[encoded data removed]",
      "text/plain": [
       "<matplotlib.figure.Figure at 0x160dc5860>"
      ]
     },
     "metadata": {},
     "output_type": "display_data"
    }
   ],
   "source": [
    "plt.scatter(X[:,0], X[:,1])\n",
    "plt.show()"
   ]
  },
  {
   "cell_type": "code",
   "execution_count": 167,
   "metadata": {},
   "outputs": [],
   "source": [
    "class K_Medoids_pam:\n",
    "    def __init__(self, k=2, max_iter=5):\n",
    "        self.k = k\n",
    "        self.max_iter = max_iter\n",
    "    def fit(self, data):\n",
    "        self.means = []\n",
    "        for i in range(self.k):\n",
    "            self.means.append(data[i])\n",
    "        clusters = []\n",
    "        new_clusters = []\n",
    "        for i in range(self.k):\n",
    "            clusters.append([])\n",
    "        #initially, divide the data points into clusters \n",
    "        cost = 0\n",
    "        new_cost = 0\n",
    "        for point in data:\n",
    "            dist = [np.abs(point - m).sum() for m in self.means]\n",
    "            min_dist = min(dist)\n",
    "            index_ = dist.index(min_dist)\n",
    "            clusters[index_].append(point)\n",
    "            cost = cost+min_dist\n",
    "        for i in range(self.k):\n",
    "            new_clusters.append([])\n",
    "        self.labels = []\n",
    "        for it in range(self.max_iter):\n",
    "            change = False\n",
    "            for i in range(self.k):\n",
    "                val = self.means[i]\n",
    "                flag = False\n",
    "                for j in data:\n",
    "                    self.means[i] = j#swapped 1 medoid \n",
    "                    for point in data:\n",
    "                        dist = [np.abs(point - m).sum() for m in self.means]\n",
    "                        min_dist = min(dist)\n",
    "                        index_ = dist.index(min_dist)\n",
    "                        new_clusters[index_].append(point)\n",
    "                        new_cost = cost+min_dist\n",
    "                    if new_cost > cost:\n",
    "                        self.means[i] = val\n",
    "                    else:\n",
    "                        clusters = []\n",
    "                        for i in range(len(new_clusters)):\n",
    "                            clusters.append(new_clusters[i])\n",
    "                        flag = True\n",
    "                        change = True\n",
    "                        cost = new_cost\n",
    "                        break\n",
    "            if not change:\n",
    "                break\n",
    "        self.labels = self.predict(data)           \n",
    "    def predict(self, test_data):\n",
    "        cluster_pred = []\n",
    "        for point in test_data:\n",
    "            dist = [np.abs(point - m).sum() for m in self.means]\n",
    "            min_dist = min(dist)\n",
    "            index_ = dist.index(min_dist)\n",
    "            cluster_pred.append(index_)\n",
    "        return cluster_pred"
   ]
  },
  {
   "cell_type": "code",
   "execution_count": 168,
   "metadata": {},
   "outputs": [
    {
     "data": {
      "text/plain": [
       "2"
      ]
     },
     "execution_count": 168,
     "metadata": {},
     "output_type": "execute_result"
    }
   ],
   "source": [
    "b = K_Medoids_pam()\n",
    "b.k"
   ]
  },
  {
   "cell_type": "code",
   "execution_count": 169,
   "metadata": {},
   "outputs": [],
   "source": [
    "b.fit(X)"
   ]
  },
  {
   "cell_type": "code",
   "execution_count": 170,
   "metadata": {},
   "outputs": [
    {
     "data": {
      "text/plain": [
       "[1, 0, 1, 1, 0, 0, 1, 0, 0, 0]"
      ]
     },
     "execution_count": 170,
     "metadata": {},
     "output_type": "execute_result"
    }
   ],
   "source": [
    "b.predict(X)"
   ]
  },
  {
   "cell_type": "code",
   "execution_count": 171,
   "metadata": {},
   "outputs": [
    {
     "data": {
      "image/png": "[encoded data removed]",
      "text/plain": [
       "<matplotlib.figure.Figure at 0x1064e0908>"
      ]
     },
     "metadata": {},
     "output_type": "display_data"
    }
   ],
   "source": [
    "label = np.array(b.labels)\n",
    "plt.scatter(X[:,0], X[:,1], c=label)\n",
    "plt.scatter(b.means[:][0], b.means[:][1])\n",
    "plt.show()"
   ]
  },
  {
   "cell_type": "code",
   "execution_count": null,
   "metadata": {},
   "outputs": [],
   "source": []
  }
 ],
 "metadata": {
  "kernelspec": {
   "display_name": "Python 3",
   "language": "python",
   "name": "python3"
  },
  "language_info": {
   "codemirror_mode": {
    "name": "ipython",
    "version": 3
   },
   "file_extension": ".py",
   "mimetype": "text/x-python",
   "name": "python",
   "nbconvert_exporter": "python",
   "pygments_lexer": "ipython3",
   "version": "3.6.4"
  }
 },
 "nbformat": 4,
 "nbformat_minor": 2
}
