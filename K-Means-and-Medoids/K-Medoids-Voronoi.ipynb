{
 "cells": [
  {
   "cell_type": "markdown",
   "metadata": {},
   "source": [
    "### THIS IS THE VORONOI K-MEDOIDS IMPLEMENTATION "
   ]
  },
  {
   "cell_type": "code",
   "execution_count": 103,
   "metadata": {},
   "outputs": [],
   "source": [
    "import numpy as np\n",
    "import matplotlib.pyplot as plt"
   ]
  },
  {
   "cell_type": "code",
   "execution_count": 104,
   "metadata": {},
   "outputs": [],
   "source": [
    "X = np.array([[1,2], [1.5,1.8], [5,8], [8,8], [1,0.6], [9,11]])"
   ]
  },
  {
   "cell_type": "code",
   "execution_count": 105,
   "metadata": {},
   "outputs": [],
   "source": [
    "all_dist = []\n",
    "for i in range(len(X)):\n",
    "    all_dist.append([])\n",
    "for i in range(len(X)):\n",
    "    for j in range(len(X)):\n",
    "        dist = (np.abs(X[i] - X[j])).sum()\n",
    "        all_dist[i].append(dist)\n",
    "        #I GET A MATRIX WITH DISTANCE OF EACH POINT FROM EVERY OTHER POINT"
   ]
  },
  {
   "cell_type": "code",
   "execution_count": 106,
   "metadata": {},
   "outputs": [],
   "source": [
    "# only for k=2 and no max_iter used \n",
    "class K_Medoids:\n",
    "    def __init__(self, k=2):\n",
    "        self.k = k\n",
    "    \n",
    "    def fit(self, data):\n",
    "        self.means = []\n",
    "        for i in range(self.k):\n",
    "            self.means.append(data[i])\n",
    "        clusters = []           \n",
    "        while(True):\n",
    "            for i in range(self.k):\n",
    "                clusters.append([])\n",
    "            for point in data:\n",
    "                dist = [(np.abs(data - m)).sum() for m in self.means] #manhattan distance \n",
    "                min_dist = min(dist)\n",
    "                ind = dist.index(min_dist)\n",
    "                clusters[ind].append(point)\n",
    "            #clusters formed \n",
    "            change = False\n",
    "            for i in range(self.k):#im going to each cluster trying to find a better mediod from within that cluster\n",
    "                index_i = data.index(self.means[i])\n",
    "                dist_sum_present = np.average(all_dist[index_i])\n",
    "                for j in clusters[i]:#j is my point in the ith cluster which i consider as a replacement\n",
    "                    index_j = data.index(j)\n",
    "                    dist_sum_consider = np.average(all_dist[index_j])\n",
    "                    if dist_sum_consider < dist_sum_present:\n",
    "                        self.means[i] = j\n",
    "                        change = True\n",
    "                        break\n",
    "            if not change:\n",
    "                break\n",
    "        self.labels = self.predict(data)\n",
    "    \n",
    "    def predict(self, test_data):\n",
    "        cluster_pred = []\n",
    "        for point in test_data:\n",
    "            distances = [(np.abs(point - m)).sum() for m in self.means]\n",
    "            min_distance = min(distances)\n",
    "            classification = distances.index(min_distance)\n",
    "            cluster_pred.append(classification)\n",
    "        return cluster_pred\n",
    "            \n",
    "            "
   ]
  },
  {
   "cell_type": "code",
   "execution_count": 107,
   "metadata": {},
   "outputs": [
    {
     "data": {
      "text/plain": [
       "2"
      ]
     },
     "execution_count": 107,
     "metadata": {},
     "output_type": "execute_result"
    }
   ],
   "source": [
    "c = K_Medoids()\n",
    "c.k"
   ]
  },
  {
   "cell_type": "code",
   "execution_count": 108,
   "metadata": {},
   "outputs": [],
   "source": [
    "X_ = []\n",
    "for i in X:\n",
    "    X_.append(X)\n",
    "c.fit(X_)"
   ]
  },
  {
   "cell_type": "code",
   "execution_count": 109,
   "metadata": {},
   "outputs": [
    {
     "data": {
      "text/plain": [
       "[0, 0, 0, 0, 0, 0]"
      ]
     },
     "execution_count": 109,
     "metadata": {},
     "output_type": "execute_result"
    }
   ],
   "source": [
    "c.predict(X_)"
   ]
  },
  {
   "cell_type": "code",
   "execution_count": null,
   "metadata": {},
   "outputs": [],
   "source": []
  }
 ],
 "metadata": {
  "kernelspec": {
   "display_name": "Python 3",
   "language": "python",
   "name": "python3"
  },
  "language_info": {
   "codemirror_mode": {
    "name": "ipython",
    "version": 3
   },
   "file_extension": ".py",
   "mimetype": "text/x-python",
   "name": "python",
   "nbconvert_exporter": "python",
   "pygments_lexer": "ipython3",
   "version": "3.6.4"
  }
 },
 "nbformat": 4,
 "nbformat_minor": 2
}
