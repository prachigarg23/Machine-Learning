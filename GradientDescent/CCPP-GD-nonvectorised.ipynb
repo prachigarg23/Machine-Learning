{
 "cells": [
  {
   "cell_type": "markdown",
   "metadata": {},
   "source": [
    "# for the CCPP dataset\n",
    "using loops - non vectorised"
   ]
  },
  {
   "cell_type": "code",
   "execution_count": 124,
   "metadata": {},
   "outputs": [],
   "source": [
    "import numpy as np\n",
    "import pandas as pd\n",
    "from sklearn import preprocessing "
   ]
  },
  {
   "cell_type": "code",
   "execution_count": 125,
   "metadata": {},
   "outputs": [],
   "source": [
    "def gd_cost(X, Y, coef):\n",
    "    cost = 0\n",
    "    N = len(Y)\n",
    "    cost = np.sum(((Y - X.dot(coef)) **2))/(N)\n",
    "    return cost"
   ]
  },
  {
   "cell_type": "code",
   "execution_count": 126,
   "metadata": {},
   "outputs": [],
   "source": [
    "def gd_step(X, Y, l_rate, coef):\n",
    "    N = len(Y)\n",
    "    Y = np.reshape(Y, (len(Y), 1))\n",
    "    hox = X.dot(coef)\n",
    "    loss = hox - Y\n",
    "    grad = [0 for i in coef]\n",
    "    for i in range(N):\n",
    "        for j in range(len(coef)):\n",
    "            grad[j] += (2/N)*loss[i]*X[i,j]\n",
    "    for k in range(len(coef)):\n",
    "        coef[k] = coef[k] - l_rate*grad[k]\n",
    "    return coef"
   ]
  },
  {
   "cell_type": "code",
   "execution_count": 127,
   "metadata": {},
   "outputs": [],
   "source": [
    "def gd_runner(X, Y, learning_rate=0.02, num_iter=1):\n",
    "    #initialising to random values in interval - [0,1)\n",
    "    coef = np.random.rand(5,1)\n",
    "    print(\"cost before gd = \" + str(gd_cost(X, Y, coef)))\n",
    "    for i in range(num_iter):\n",
    "        coef = gd_step(X, Y, learning_rate, coef)\n",
    "    print(\"cost = \" + str(gd_cost(X, Y, coef)))\n",
    "    return coef"
   ]
  },
  {
   "cell_type": "code",
   "execution_count": 128,
   "metadata": {},
   "outputs": [],
   "source": [
    "def predict(X_test, coef):\n",
    "    Y_pred = X_test.dot(coef)\n",
    "    print(Y_pred.shape)\n",
    "    return Y_pred    "
   ]
  },
  {
   "cell_type": "code",
   "execution_count": 129,
   "metadata": {},
   "outputs": [],
   "source": [
    "# LOADING DATA \n",
    "train_data = np.genfromtxt('/Users/prachigarg/Documents/MLninja/ML/LinearRegression/CCPP_DATASET/training_ccpp.csv', delimiter = ',')\n",
    "X_test = np.genfromtxt('/Users/prachigarg/Documents/MLninja/ML/LinearRegression/CCPP_DATASET/test_ccpp.csv', delimiter = ',')"
   ]
  },
  {
   "cell_type": "code",
   "execution_count": 130,
   "metadata": {},
   "outputs": [
    {
     "name": "stdout",
     "output_type": "stream",
     "text": [
      "(7176, 4)\n",
      "7176\n"
     ]
    }
   ],
   "source": [
    "X_train = train_data[:,0:4]\n",
    "Y_train = train_data[:,4]\n",
    "print(X_train.shape)\n",
    "print(len(Y_train))"
   ]
  },
  {
   "cell_type": "code",
   "execution_count": 135,
   "metadata": {},
   "outputs": [],
   "source": [
    "# PREPROCESSING \n",
    "Scaler = preprocessing.StandardScaler().fit(X_train)\n",
    "X_train = Scaler.transform(X_train)\n",
    "X_test = Scaler.transform(X_test)"
   ]
  },
  {
   "cell_type": "code",
   "execution_count": 150,
   "metadata": {},
   "outputs": [
    {
     "name": "stdout",
     "output_type": "stream",
     "text": [
      "cost before gd = 1482324312.7544003\n",
      "cost = 4008330.7806927683\n",
      "(2392, 1)\n",
      "(2392, 1)\n"
     ]
    }
   ],
   "source": [
    "num_iter = 60\n",
    "rate = 0.07\n",
    "arr = np.full((len(Y_train), 1), 1)\n",
    "X = np.append(arr, X_train, axis=1)\n",
    "arr = np.full((len(X_test), 1), 1)\n",
    "X_test1 = np.append(arr, X_test, axis=1)\n",
    "\n",
    "coef = gd_runner(X, Y_train, rate, num_iter)\n",
    "Y_pred = predict(X_test1, coef)\n",
    "print(Y_pred.shape)\n"
   ]
  },
  {
   "cell_type": "code",
   "execution_count": 151,
   "metadata": {},
   "outputs": [],
   "source": [
    "np.savetxt('/Users/prachigarg/Documents/results2.csv', Y_pred)"
   ]
  },
  {
   "cell_type": "code",
   "execution_count": 152,
   "metadata": {},
   "outputs": [
    {
     "name": "stdout",
     "output_type": "stream",
     "text": [
      "[470.64073054]\n",
      "[471.98078706]\n",
      "[432.67050708]\n",
      "[458.79651049]\n",
      "[466.12321186]\n",
      "[448.17948832]\n",
      "[478.19849737]\n",
      "[444.75590836]\n",
      "[482.23222447]\n",
      "[439.20770088]\n"
     ]
    }
   ],
   "source": [
    "for i in range(10):\n",
    "    print(Y_pred[i])"
   ]
  },
  {
   "cell_type": "code",
   "execution_count": 153,
   "metadata": {},
   "outputs": [
    {
     "data": {
      "text/plain": [
       "array([[454.37794396],\n",
       "       [-11.47476954],\n",
       "       [ -5.39747473],\n",
       "       [  1.01560001],\n",
       "       [ -1.20447678]])"
      ]
     },
     "execution_count": 153,
     "metadata": {},
     "output_type": "execute_result"
    }
   ],
   "source": [
    "coef"
   ]
  },
  {
   "cell_type": "code",
   "execution_count": null,
   "metadata": {},
   "outputs": [],
   "source": [
    "# max score I got from this was 0.923"
   ]
  }
 ],
 "metadata": {
  "kernelspec": {
   "display_name": "Python 3",
   "language": "python",
   "name": "python3"
  },
  "language_info": {
   "codemirror_mode": {
    "name": "ipython",
    "version": 3
   },
   "file_extension": ".py",
   "mimetype": "text/x-python",
   "name": "python",
   "nbconvert_exporter": "python",
   "pygments_lexer": "ipython3",
   "version": "3.6.4"
  }
 },
 "nbformat": 4,
 "nbformat_minor": 2
}
