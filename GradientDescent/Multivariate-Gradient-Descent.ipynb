{
 "cells": [
  {
   "cell_type": "markdown",
   "metadata": {},
   "source": [
    "# MULTIVARIATE BATCH GRADIENT DESCENT IMPLEMENTATION"
   ]
  },
  {
   "cell_type": "code",
   "execution_count": null,
   "metadata": {},
   "outputs": [],
   "source": [
    "#using vectorised implementation "
   ]
  },
  {
   "cell_type": "code",
   "execution_count": 1,
   "metadata": {},
   "outputs": [],
   "source": [
    "import numpy as np"
   ]
  },
  {
   "cell_type": "code",
   "execution_count": 2,
   "metadata": {},
   "outputs": [],
   "source": [
    "def gd_cost(X, Y, coef):\n",
    "    cost = 0\n",
    "    N = len(points)\n",
    "    cost = np.sum(((X.dot(coef) - Y) **2))/(N)\n",
    "    return cost"
   ]
  },
  {
   "cell_type": "code",
   "execution_count": 3,
   "metadata": {},
   "outputs": [],
   "source": [
    "def gd_step(X, Y, coef, l_rate):\n",
    "    N = len(Y)\n",
    "    Y = np.reshape(Y, (len(Y), 1))\n",
    "    hox = X.dot(coef)\n",
    "    loss = hox - Y\n",
    "    # vector multiplication to calculate gradient:\n",
    "    grad = X.T.dot(loss)\n",
    "    grad = grad*(2/N)\n",
    "    \n",
    "    # updated values of coefficients:\n",
    "    coef = coef - l_rate*(grad.T)\n",
    "    return coef"
   ]
  },
  {
   "cell_type": "code",
   "execution_count": 4,
   "metadata": {},
   "outputs": [],
   "source": [
    "# for semi-batch GD, we can split X into batches and pass them while calling gd_step"
   ]
  },
  {
   "cell_type": "code",
   "execution_count": 5,
   "metadata": {},
   "outputs": [],
   "source": [
    "def gd_runner(X, Y, learning_rate=0.02, num_iter=1):\n",
    "    count = 0\n",
    "    p, count = X.shape\n",
    "    #initialising to random values in interval - [0,1)\n",
    "    coef = np.random.rand(1, count+1) # we do +1 to for the bias term \n",
    "    M = len(coef)\n",
    "    \n",
    "    print(\"cost before gd = \" + str(gd_cost(X, Y, coef)))\n",
    "    for i in range(num_iter):\n",
    "        coef = gd_step(X, Y, coef)\n",
    "    print(\"cost after gd = \" + str(gd_cost(X, Y, coef)))\n",
    "    return coef"
   ]
  },
  {
   "cell_type": "code",
   "execution_count": 6,
   "metadata": {},
   "outputs": [],
   "source": [
    "def predict(X_test, coef):\n",
    "    Y_pred = X_test.dot(coef)\n",
    "    print(Y_pred.shape)\n",
    "    return Y_pred    "
   ]
  },
  {
   "cell_type": "code",
   "execution_count": 7,
   "metadata": {},
   "outputs": [],
   "source": [
    "def run():\n",
    "    points = np.loadtxt(open(\"data.csv\", \"rb\"), delimiter = ',')\n",
    "    num_iter = 5\n",
    "    learning_rate = 0.01\n",
    "    \n",
    "    # to add 1's for x0 term (bias term)\n",
    "    arr = np.full((len(Y_train), 1), 1)\n",
    "    X = np.append(arr, X_train, axis=1)\n",
    "    arr = np.full((len(X_test), 1), 1)\n",
    "    X_test1 = np.append(arr, X_test, axis=1)\n",
    "\n",
    "    final_coef = gd_runner(X, Y, learning_rate, num_iter)    \n",
    "    Y_pred = predict(X_test1, coef)   "
   ]
  },
  {
   "cell_type": "code",
   "execution_count": null,
   "metadata": {},
   "outputs": [],
   "source": []
  }
 ],
 "metadata": {
  "kernelspec": {
   "display_name": "Python 3",
   "language": "python",
   "name": "python3"
  },
  "language_info": {
   "codemirror_mode": {
    "name": "ipython",
    "version": 3
   },
   "file_extension": ".py",
   "mimetype": "text/x-python",
   "name": "python",
   "nbconvert_exporter": "python",
   "pygments_lexer": "ipython3",
   "version": "3.6.4"
  }
 },
 "nbformat": 4,
 "nbformat_minor": 2
}
