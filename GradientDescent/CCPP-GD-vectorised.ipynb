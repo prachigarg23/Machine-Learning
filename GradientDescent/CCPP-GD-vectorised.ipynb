{
 "cells": [
  {
   "cell_type": "markdown",
   "metadata": {},
   "source": [
    "# using gradient descent for the CCPP dataset"
   ]
  },
  {
   "cell_type": "code",
   "execution_count": 5,
   "metadata": {},
   "outputs": [],
   "source": [
    "import numpy as np\n",
    "import pandas as pd\n",
    "from sklearn import preprocessing"
   ]
  },
  {
   "cell_type": "code",
   "execution_count": 6,
   "metadata": {},
   "outputs": [],
   "source": [
    "def gd_cost(X, Y, coef):\n",
    "    cost = 0\n",
    "    N = len(Y)\n",
    "    cost = np.sum((Y - (X.dot(coef))) **2)\n",
    "    cost = cost/N\n",
    "    return cost"
   ]
  },
  {
   "cell_type": "code",
   "execution_count": 7,
   "metadata": {},
   "outputs": [],
   "source": [
    "# batch gradient descent \n",
    "def gd_step(X, Y, l_rate, coef):\n",
    "    Y = np.reshape(Y, (len(Y), 1))\n",
    "    N = len(Y)\n",
    "    hox = X.dot(coef)\n",
    "    loss = hox - Y\n",
    "    # vector multiplication to calculate gradient:\n",
    "    c = X.T\n",
    "    grad = c.dot(loss)\n",
    "    grad = grad*(2/N)\n",
    "    \n",
    "    # updated values of coefficients:\n",
    "    coef = coef - l_rate*(grad)\n",
    "    return coef"
   ]
  },
  {
   "cell_type": "code",
   "execution_count": 8,
   "metadata": {},
   "outputs": [],
   "source": [
    "def gd_runner(X, Y, learning_rate=0.02, num_iter=1):\n",
    "    #initialising to random values in interval - [0,1)\n",
    "    coef = np.random.rand(5,1)\n",
    "    print(\"cost before gd = \" + str(gd_cost(X, Y, coef)))\n",
    "    for i in range(num_iter):\n",
    "        coef = gd_step(X, Y, learning_rate, coef)\n",
    "    print(\"cost = \" + str(gd_cost(X, Y, coef)))\n",
    "    return coef"
   ]
  },
  {
   "cell_type": "code",
   "execution_count": 9,
   "metadata": {},
   "outputs": [],
   "source": [
    "def predict(X_test, coef):\n",
    "    Y_pred = X_test.dot(coef)\n",
    "    print(Y_pred.shape)\n",
    "    return Y_pred    "
   ]
  },
  {
   "cell_type": "code",
   "execution_count": 14,
   "metadata": {},
   "outputs": [],
   "source": [
    "# LOADING DATA \n",
    "train_data = np.genfromtxt('/Users/prachigarg/Documents/MLninja/ML/GradientDescent/training_ccpp.csv', delimiter = ',')\n",
    "X_test = np.genfromtxt('/Users/prachigarg/Documents/MLninja/ML/GradientDescent/test_ccpp.csv', delimiter = ',')"
   ]
  },
  {
   "cell_type": "code",
   "execution_count": 15,
   "metadata": {},
   "outputs": [
    {
     "name": "stdout",
     "output_type": "stream",
     "text": [
      "(7176, 4)\n",
      "7176\n"
     ]
    }
   ],
   "source": [
    "X_train = train_data[:,0:4]\n",
    "Y_train = train_data[:,4]\n",
    "print(X_train.shape)\n",
    "print(len(Y_train))"
   ]
  },
  {
   "cell_type": "code",
   "execution_count": 16,
   "metadata": {},
   "outputs": [],
   "source": [
    "# PREPROCESSING \n",
    "Scaler = preprocessing.StandardScaler().fit(X_train)\n",
    "X_train = Scaler.transform(X_train)\n",
    "X_test = Scaler.transform(X_test)"
   ]
  },
  {
   "cell_type": "code",
   "execution_count": 17,
   "metadata": {},
   "outputs": [
    {
     "name": "stdout",
     "output_type": "stream",
     "text": [
      "cost before gd = 1482855558.6301448\n",
      "cost = 3999483.5974098127\n",
      "(2392, 1)\n",
      "(2392, 1)\n",
      "[470.5642738]\n",
      "[471.75702859]\n",
      "[432.26085214]\n",
      "[458.7555672]\n",
      "[466.11437971]\n",
      "[447.95918654]\n",
      "[478.01723864]\n",
      "[444.22218918]\n",
      "[481.74319573]\n",
      "[438.85938815]\n"
     ]
    }
   ],
   "source": [
    "num_iter = 70\n",
    "rate = 0.05\n",
    "arr = np.full((len(Y_train), 1), 1)\n",
    "X = np.append(arr, X_train, axis=1)\n",
    "arr = np.full((len(X_test), 1), 1)\n",
    "X_test1 = np.append(arr, X_test, axis=1)\n",
    "\n",
    "\n",
    "coef = gd_runner(X, Y_train, rate, num_iter)\n",
    "Y_pred = predict(X_test1, coef)\n",
    "print(Y_pred.shape)\n",
    "for i in Y_pred[:10]:\n",
    "    print(i)"
   ]
  },
  {
   "cell_type": "code",
   "execution_count": 18,
   "metadata": {},
   "outputs": [],
   "source": [
    "np.savetxt('/Users/prachigarg/Documents/results2.csv', Y_pred)"
   ]
  },
  {
   "cell_type": "code",
   "execution_count": 19,
   "metadata": {},
   "outputs": [],
   "source": [
    "from sklearn import linear_model"
   ]
  },
  {
   "cell_type": "code",
   "execution_count": 20,
   "metadata": {},
   "outputs": [
    {
     "name": "stderr",
     "output_type": "stream",
     "text": [
      "/Users/prachigarg/anaconda3/lib/python3.6/site-packages/sklearn/linear_model/stochastic_gradient.py:117: DeprecationWarning: n_iter parameter is deprecated in 0.19 and will be removed in 0.21. Use max_iter and tol instead.\n",
      "  DeprecationWarning)\n"
     ]
    },
    {
     "name": "stdout",
     "output_type": "stream",
     "text": [
      "470.2018289548771\n",
      "471.34660832420724\n",
      "433.61978609314224\n",
      "457.76884473518317\n",
      "465.1494397559101\n",
      "448.3198059374654\n",
      "477.97131607100266\n",
      "445.7259935459965\n",
      "482.2105009174596\n",
      "439.8011642243105\n"
     ]
    }
   ],
   "source": [
    "clf = linear_model.SGDRegressor(alpha=0.05, max_iter=70, n_iter=1000)\n",
    "clf.fit(X_train, Y_train)\n",
    "Y_pred2 = clf.predict(X_test)\n",
    "\n",
    "for i in Y_pred2[:10]:\n",
    "    print(i)"
   ]
  },
  {
   "cell_type": "code",
   "execution_count": 21,
   "metadata": {},
   "outputs": [
    {
     "data": {
      "text/plain": [
       "array([-12.07379503,  -4.44974782,   1.0004359 ,  -1.33569224])"
      ]
     },
     "execution_count": 21,
     "metadata": {},
     "output_type": "execute_result"
    }
   ],
   "source": [
    "clf.coef_"
   ]
  },
  {
   "cell_type": "code",
   "execution_count": 289,
   "metadata": {},
   "outputs": [],
   "source": [
    "# max score i got from this is 0.928\n",
    "# this is much faster as compared to the one where vectorised implementation hasn't been used"
   ]
  },
  {
   "cell_type": "code",
   "execution_count": null,
   "metadata": {},
   "outputs": [],
   "source": []
  }
 ],
 "metadata": {
  "kernelspec": {
   "display_name": "Python 3",
   "language": "python",
   "name": "python3"
  },
  "language_info": {
   "codemirror_mode": {
    "name": "ipython",
    "version": 3
   },
   "file_extension": ".py",
   "mimetype": "text/x-python",
   "name": "python",
   "nbconvert_exporter": "python",
   "pygments_lexer": "ipython3",
   "version": "3.6.4"
  }
 },
 "nbformat": 4,
 "nbformat_minor": 2
}
