{
 "cells": [
  {
   "cell_type": "markdown",
   "metadata": {},
   "source": [
    "# Gradient Descent Implementation for Single Feature"
   ]
  },
  {
   "cell_type": "code",
   "execution_count": 2,
   "metadata": {},
   "outputs": [],
   "source": [
    "import numpy as np"
   ]
  },
  {
   "cell_type": "code",
   "execution_count": 3,
   "metadata": {},
   "outputs": [],
   "source": [
    "# m_current := m_current - learning_rate*m_slope\n",
    "# m_slope = (2/N)*sigma(h(x)-y)\n",
    "# or m_slope = (-2/N)*sigma(y-h(x))\n",
    "\n",
    "def gd_step(points, cur_m, cur_b):\n",
    "    m_slope = 0\n",
    "    b_slope = 0\n",
    "    N = len(points)\n",
    "    for i in range(N):\n",
    "        x = points[i,0]\n",
    "        y = points[i,1]\n",
    "        m_slope += (2/N)*(cur_m*x + cur_b - y)\n",
    "        b_slope += (2/N)*(cur_m*x + cur_b - y)*x\n",
    "    m_cur = m_cur - l_rate*m_slope\n",
    "    b_cur = b_cur - l_rate*b_slope\n",
    "    return m_cur,b_cur\n",
    "\n",
    "def gd_cost(points, m, b):\n",
    "    cost = 0\n",
    "    N = len(points)\n",
    "    for i in range(N):\n",
    "        x = points[i,0]\n",
    "        y = points[i,1]\n",
    "        cost += (mx + b - y)**2\n",
    "        cost = cost/N\n",
    "        return cost\n",
    "\n",
    "def gd_runner(points, learning_rate=0.02, num_iter=1):\n",
    "    m = 0\n",
    "    b = 0\n",
    "    print(\"cost before gd = \" + str(gd_cost(points,m,b)))\n",
    "    for i in range(num_iter):\n",
    "        m,b = gd_step(points,m,b)\n",
    "    print(\"cost after gd = \" + str(gd_cost(points,m,b)))\n",
    "    return m,b\n",
    "\n",
    "def run():\n",
    "    points = np.loadtxt(open(\"data.csv\", \"rb\"), delimiter = ',')\n",
    "    num_iter = 5\n",
    "    learning_rate = 0.01\n",
    "    final_m,final_b = gd_runner(points, learning_rate, num_iter)\n",
    "    print(\"final slope {} , final intercept {}\".format(final_m, final_b))\n",
    "    \n",
    "        "
   ]
  },
  {
   "cell_type": "code",
   "execution_count": null,
   "metadata": {},
   "outputs": [],
   "source": []
  }
 ],
 "metadata": {
  "kernelspec": {
   "display_name": "Python 3",
   "language": "python",
   "name": "python3"
  },
  "language_info": {
   "codemirror_mode": {
    "name": "ipython",
    "version": 3
   },
   "file_extension": ".py",
   "mimetype": "text/x-python",
   "name": "python",
   "nbconvert_exporter": "python",
   "pygments_lexer": "ipython3",
   "version": "3.6.4"
  }
 },
 "nbformat": 4,
 "nbformat_minor": 2
}
