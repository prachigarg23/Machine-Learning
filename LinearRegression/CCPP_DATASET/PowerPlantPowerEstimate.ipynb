{
 "cells": [
  {
   "cell_type": "code",
   "execution_count": 2,
   "metadata": {},
   "outputs": [],
   "source": [
    "# this is with respect to the study done on the Combined Cycle Power Plant\n",
    "# various ambient variables are used to predict the net hourly electrical energy output (EP)  of the plant.\n",
    "# the rest of the information about dataset is in the readme.txt"
   ]
  },
  {
   "cell_type": "code",
   "execution_count": 3,
   "metadata": {},
   "outputs": [],
   "source": [
    "from sklearn.linear_model import LinearRegression\n",
    "import numpy as np\n",
    "import pandas as pd\n",
    "from sklearn import preprocessing "
   ]
  },
  {
   "cell_type": "code",
   "execution_count": 4,
   "metadata": {},
   "outputs": [],
   "source": [
    "ccpp = pd.read_excel(\"/Users/prachigarg/Documents/MLninja/ML/LinearRegression/CCPP_DATASET/L3_CCPP_train_data.xlsx\")\n",
    "ccpp_test = pd.read_excel(\"/Users/prachigarg/Documents/MLninja/ML/LinearRegression/CCPP_DATASET/L3_CCPP_test_data.xlsx\")"
   ]
  },
  {
   "cell_type": "code",
   "execution_count": 5,
   "metadata": {},
   "outputs": [
    {
     "name": "stdout",
     "output_type": "stream",
     "text": [
      "      AT      V       AP     RH      PE\n",
      "0   8.34  40.77  1010.84  90.01  480.48\n",
      "1  23.64  58.49  1011.40  74.20  445.75\n",
      "2  29.74  56.90  1007.15  41.91  438.76\n",
      "3  19.07  49.69  1007.22  76.79  453.09\n",
      "4  11.80  40.66  1017.13  97.20  464.43\n",
      "                AT            V           AP           RH           PE\n",
      "count  7668.000000  7668.000000  7668.000000  7668.000000  7668.000000\n",
      "mean     19.612608    54.320136  1013.313372    73.400692   454.419750\n",
      "std       7.445436    12.681305     5.923778    14.582979    17.083443\n",
      "min       1.810000    25.360000   992.890000    25.560000   420.260000\n",
      "25%      13.510000    41.740000  1009.207500    63.340000   439.770000\n",
      "50%      20.300000    52.300000  1013.020000    75.090000   451.670000\n",
      "75%      25.682500    66.510000  1017.330000    84.960000   468.430000\n",
      "max      35.560000    81.560000  1033.300000   100.160000   495.350000\n"
     ]
    }
   ],
   "source": [
    "print(ccpp.head())\n",
    "print(ccpp.describe())"
   ]
  },
  {
   "cell_type": "code",
   "execution_count": 6,
   "metadata": {},
   "outputs": [
    {
     "name": "stdout",
     "output_type": "stream",
     "text": [
      "AT    0\n",
      "V     0\n",
      "AP    0\n",
      "RH    0\n",
      "PE    0\n",
      "dtype: int64\n"
     ]
    }
   ],
   "source": [
    "print(ccpp.isnull().sum())"
   ]
  },
  {
   "cell_type": "code",
   "execution_count": 7,
   "metadata": {},
   "outputs": [],
   "source": [
    "X_train = ccpp.iloc[:,0:4].values\n",
    "Y_train = np.array(ccpp.PE)\n",
    "X_test = ccpp_test.iloc[:,0:4].values\n",
    "Y_test = np.array(ccpp_test.PE)"
   ]
  },
  {
   "cell_type": "code",
   "execution_count": 8,
   "metadata": {},
   "outputs": [
    {
     "name": "stdout",
     "output_type": "stream",
     "text": [
      "<class 'numpy.ndarray'>\n",
      "<class 'numpy.ndarray'>\n",
      "(7668, 4)\n"
     ]
    },
    {
     "data": {
      "text/plain": [
       "(1900,)"
      ]
     },
     "execution_count": 8,
     "metadata": {},
     "output_type": "execute_result"
    }
   ],
   "source": [
    "print(type(Y_train))\n",
    "print(type(X_train))\n",
    "print(X_train.shape)\n",
    "Y_train.shape\n",
    "Y_test.shape"
   ]
  },
  {
   "cell_type": "code",
   "execution_count": 9,
   "metadata": {},
   "outputs": [],
   "source": [
    "Scaler = preprocessing.StandardScaler().fit(X_train)\n",
    "X_train = Scaler.transform(X_train)"
   ]
  },
  {
   "cell_type": "code",
   "execution_count": 10,
   "metadata": {},
   "outputs": [
    {
     "name": "stderr",
     "output_type": "stream",
     "text": [
      "/Users/prachigarg/anaconda3/lib/python3.6/site-packages/sklearn/linear_model/base.py:509: RuntimeWarning: internal gelsd driver lwork query error, required iwork dimension not returned. This is likely the result of LAPACK bug 0038, fixed in LAPACK 3.2.2 (released July 21, 2010). Falling back to 'gelss' driver.\n",
      "  linalg.lstsq(X, y)\n"
     ]
    },
    {
     "data": {
      "text/plain": [
       "LinearRegression(copy_X=True, fit_intercept=True, n_jobs=1, normalize=False)"
      ]
     },
     "execution_count": 10,
     "metadata": {},
     "output_type": "execute_result"
    }
   ],
   "source": [
    "clf = LinearRegression()\n",
    "clf.fit(X_train, Y_train)"
   ]
  },
  {
   "cell_type": "code",
   "execution_count": 11,
   "metadata": {},
   "outputs": [
    {
     "data": {
      "text/plain": [
       "0.9284059855377644"
      ]
     },
     "execution_count": 11,
     "metadata": {},
     "output_type": "execute_result"
    }
   ],
   "source": [
    "X_test = Scaler.transform(X_test)\n",
    "Y_pred = clf.predict(X_test)\n",
    "np.around(Y_pred, decimals=3, out=Y_pred)\n",
    "clf.score(X_test, Y_test)"
   ]
  },
  {
   "cell_type": "code",
   "execution_count": 12,
   "metadata": {},
   "outputs": [
    {
     "name": "stdout",
     "output_type": "stream",
     "text": [
      "Actual\tPredicted\n",
      "429.48 \t 435.076\n",
      "439.36 \t 439.648\n",
      "434.09 \t 434.771\n",
      "455.15 \t 450.455\n",
      "443.66 \t 448.366\n",
      "468.88 \t 472.851\n",
      "453.84 \t 451.736\n",
      "456.34 \t 459.67\n",
      "457.26 \t 460.783\n",
      "453.99 \t 452.825\n"
     ]
    }
   ],
   "source": [
    "print(\"Actual\\tPredicted\")\n",
    "for i in range(10):\n",
    "    print(str(Y_test[i]) + ' \\t ' +  str(Y_pred[i]))"
   ]
  },
  {
   "cell_type": "code",
   "execution_count": null,
   "metadata": {},
   "outputs": [],
   "source": []
  }
 ],
 "metadata": {
  "kernelspec": {
   "display_name": "Python 3",
   "language": "python",
   "name": "python3"
  },
  "language_info": {
   "codemirror_mode": {
    "name": "ipython",
    "version": 3
   },
   "file_extension": ".py",
   "mimetype": "text/x-python",
   "name": "python",
   "nbconvert_exporter": "python",
   "pygments_lexer": "ipython3",
   "version": "3.6.4"
  }
 },
 "nbformat": 4,
 "nbformat_minor": 2
}
